{
 "cells": [
  {
   "cell_type": "markdown",
   "metadata": {},
   "source": [
    "# TV Script Generation\n",
    "In this project, you'll generate your own [Simpsons](https://en.wikipedia.org/wiki/The_Simpsons) TV scripts using RNNs.  You'll be using part of the [Simpsons dataset](https://www.kaggle.com/wcukierski/the-simpsons-by-the-data) of scripts from 27 seasons.  The Neural Network you'll build will generate a new TV script for a scene at [Moe's Tavern](https://simpsonswiki.com/wiki/Moe's_Tavern).\n",
    "## Get the Data\n",
    "The data is already provided for you.  You'll be using a subset of the original dataset.  It consists of only the scenes in Moe's Tavern.  This doesn't include other versions of the tavern, like \"Moe's Cavern\", \"Flaming Moe's\", \"Uncle Moe's Family Feed-Bag\", etc.."
   ]
  },
  {
   "cell_type": "code",
   "execution_count": 1,
   "metadata": {},
   "outputs": [],
   "source": [
    "\"\"\"\n",
    "DON'T MODIFY ANYTHING IN THIS CELL\n",
    "\"\"\"\n",
    "import helper\n",
    "\n",
    "data_dir = './data/simpsons/moes_tavern_lines.txt'\n",
    "text = helper.load_data(data_dir)\n",
    "# Ignore notice, since we don't use it for analysing the data\n",
    "text = text[81:]"
   ]
  },
  {
   "cell_type": "markdown",
   "metadata": {},
   "source": [
    "## Explore the Data\n",
    "Play around with `view_sentence_range` to view different parts of the data."
   ]
  },
  {
   "cell_type": "code",
   "execution_count": 2,
   "metadata": {},
   "outputs": [
    {
     "name": "stdout",
     "output_type": "stream",
     "text": [
      "Dataset Stats\n",
      "Roughly the number of unique words: 11492\n",
      "Number of scenes: 262\n",
      "Average number of sentences in each scene: 15.248091603053435\n",
      "Number of lines: 4257\n",
      "Average number of words in each line: 11.50434578341555\n",
      "\n",
      "The sentences 0 to 15:\n",
      "Moe_Szyslak: (INTO PHONE) Moe's Tavern. Where the elite meet to drink.\n",
      "Bart_Simpson: Eh, yeah, hello, is Mike there? Last name, Rotch.\n",
      "Moe_Szyslak: (INTO PHONE) Hold on, I'll check. (TO BARFLIES) Mike Rotch. Mike Rotch. Hey, has anybody seen Mike Rotch, lately?\n",
      "Moe_Szyslak: (INTO PHONE) Listen you little puke. One of these days I'm gonna catch you, and I'm gonna carve my name on your back with an ice pick.\n",
      "Moe_Szyslak: What's the matter Homer? You're not your normal effervescent self.\n",
      "Homer_Simpson: I got my problems, Moe. Give me another one.\n",
      "Moe_Szyslak: Homer, hey, you should not drink to forget your problems.\n",
      "Barney_Gumble: Yeah, you should only drink to enhance your social skills.\n",
      "\n",
      "\n",
      "Moe_Szyslak: Ah, isn't that nice. Now, there is a politician who cares.\n",
      "Barney_Gumble: If I ever vote, it'll be for him. (BELCH)\n",
      "\n",
      "\n",
      "Barney_Gumble: Hey Homer, how's your neighbor's store doing?\n"
     ]
    }
   ],
   "source": [
    "view_sentence_range = (0, 15)\n",
    "\n",
    "\"\"\"\n",
    "DON'T MODIFY ANYTHING IN THIS CELL\n",
    "\"\"\"\n",
    "import numpy as np\n",
    "\n",
    "print('Dataset Stats')\n",
    "print('Roughly the number of unique words: {}'.format(len({word: None for word in text.split()})))\n",
    "scenes = text.split('\\n\\n')\n",
    "print('Number of scenes: {}'.format(len(scenes)))\n",
    "sentence_count_scene = [scene.count('\\n') for scene in scenes]\n",
    "print('Average number of sentences in each scene: {}'.format(np.average(sentence_count_scene)))\n",
    "\n",
    "sentences = [sentence for scene in scenes for sentence in scene.split('\\n')]\n",
    "print('Number of lines: {}'.format(len(sentences)))\n",
    "word_count_sentence = [len(sentence.split()) for sentence in sentences]\n",
    "print('Average number of words in each line: {}'.format(np.average(word_count_sentence)))\n",
    "\n",
    "print()\n",
    "print('The sentences {} to {}:'.format(*view_sentence_range))\n",
    "print('\\n'.join(text.split('\\n')[view_sentence_range[0]:view_sentence_range[1]]))"
   ]
  },
  {
   "cell_type": "markdown",
   "metadata": {},
   "source": [
    "## Implement Preprocessing Functions\n",
    "The first thing to do to any dataset is preprocessing.  Implement the following preprocessing functions below:\n",
    "- Lookup Table\n",
    "- Tokenize Punctuation\n",
    "\n",
    "### Lookup Table\n",
    "To create a word embedding, you first need to transform the words to ids.  In this function, create two dictionaries:\n",
    "- Dictionary to go from the words to an id, we'll call `vocab_to_int`\n",
    "- Dictionary to go from the id to word, we'll call `int_to_vocab`\n",
    "\n",
    "Return these dictionaries in the following tuple `(vocab_to_int, int_to_vocab)`"
   ]
  },
  {
   "cell_type": "code",
   "execution_count": 3,
   "metadata": {},
   "outputs": [
    {
     "name": "stderr",
     "output_type": "stream",
     "text": [
      "/usr/local/lib/python3.7/site-packages/requests/__init__.py:91: RequestsDependencyWarning: urllib3 (1.25.2) or chardet (3.0.4) doesn't match a supported version!\n",
      "  RequestsDependencyWarning)\n"
     ]
    },
    {
     "name": "stdout",
     "output_type": "stream",
     "text": [
      "Tests Passed\n"
     ]
    }
   ],
   "source": [
    "from collections import Counter\n",
    "import itertools\n",
    "from string import punctuation\n",
    "import numpy as np\n",
    "import problem_unittests as tests\n",
    "\n",
    "def create_lookup_tables(text):\n",
    "    \"\"\"\n",
    "    Create lookup tables for vocabulary\n",
    "    :param text: The text of tv scripts split into words\n",
    "    :return: A tuple of dicts (vocab_to_int, int_to_vocab)\n",
    "    \"\"\"\n",
    "    word_set = set(text)\n",
    "    word2int = {word: i for i, word in enumerate(word_set)}\n",
    "    int2word = {i: word for i, word in enumerate(word_set)}\n",
    "    return word2int, int2word\n",
    "\n",
    "#     # TODO: Implement Function\n",
    "#     words = [c.lower() for c in list(itertools.chain.from_iterable(map(lambda x: x.split(), [x for x in sentences if x is not ''])))]\n",
    "#     counts = Counter(words)\n",
    "#     vocab = sorted(counts, key=counts.get, reverse=True)\n",
    "#     vocab_to_int = {word: ii for ii, word in enumerate(vocab, 1)}\n",
    "#     int_to_vocab = {vocab_to_int[key]:key for key in vocab_to_int.keys()}\n",
    "    \n",
    "#     return vocab_to_int, int_to_vocab\n",
    "\n",
    "\n",
    "\"\"\"\n",
    "DON'T MODIFY ANYTHING IN THIS CELL THAT IS BELOW THIS LINE\n",
    "\"\"\"\n",
    "tests.test_create_lookup_tables(create_lookup_tables)"
   ]
  },
  {
   "cell_type": "markdown",
   "metadata": {},
   "source": [
    "### Tokenize Punctuation\n",
    "We'll be splitting the script into a word array using spaces as delimiters.  However, punctuations like periods and exclamation marks make it hard for the neural network to distinguish between the word \"bye\" and \"bye!\".\n",
    "\n",
    "Implement the function `token_lookup` to return a dict that will be used to tokenize symbols like \"!\" into \"||Exclamation_Mark||\".  Create a dictionary for the following symbols where the symbol is the key and value is the token:\n",
    "- Period ( . )\n",
    "- Comma ( , )\n",
    "- Quotation Mark ( \" )\n",
    "- Semicolon ( ; )\n",
    "- Exclamation mark ( ! )\n",
    "- Question mark ( ? )\n",
    "- Left Parentheses ( ( )\n",
    "- Right Parentheses ( ) )\n",
    "- Dash ( -- )\n",
    "- Return ( \\n )\n",
    "\n",
    "This dictionary will be used to token the symbols and add the delimiter (space) around it.  This separates the symbols as it's own word, making it easier for the neural network to predict on the next word. Make sure you don't use a token that could be confused as a word. Instead of using the token \"dash\", try using something like \"||dash||\"."
   ]
  },
  {
   "cell_type": "code",
   "execution_count": 4,
   "metadata": {},
   "outputs": [
    {
     "name": "stdout",
     "output_type": "stream",
     "text": [
      "Tests Passed\n"
     ]
    }
   ],
   "source": [
    "def token_lookup():\n",
    "    \"\"\"\n",
    "    Generate a dict to turn punctuation into a token.\n",
    "    :return: Tokenize dictionary where the key is the punctuation and the value is the token\n",
    "    \"\"\"\n",
    "    # TODO: Implement Function\n",
    "    return {'!'  : '||exclamationpoint||',\n",
    "             '\"' : '||quotemark||',\n",
    "             '(' : '||leftparentheses||',\n",
    "             ')' : '||rightparentheses||',\n",
    "             ',' : '||comma||',\n",
    "             '.' : '||period||',\n",
    "             ';' : '||semicolon||',\n",
    "             '?' : '||questionmark||',\n",
    "             '--': '||dash||',\n",
    "             '\\n': '||return||'}\n",
    "\n",
    "\"\"\"\n",
    "DON'T MODIFY ANYTHING IN THIS CELL THAT IS BELOW THIS LINE\n",
    "\"\"\"\n",
    "tests.test_tokenize(token_lookup)"
   ]
  },
  {
   "cell_type": "markdown",
   "metadata": {},
   "source": [
    "## Preprocess all the data and save it\n",
    "Running the code cell below will preprocess all the data and save it to file."
   ]
  },
  {
   "cell_type": "code",
   "execution_count": 5,
   "metadata": {},
   "outputs": [],
   "source": [
    "\"\"\"\n",
    "DON'T MODIFY ANYTHING IN THIS CELL\n",
    "\"\"\"\n",
    "# Preprocess Training, Validation, and Testing Data\n",
    "helper.preprocess_and_save_data(data_dir, token_lookup, create_lookup_tables)"
   ]
  },
  {
   "cell_type": "markdown",
   "metadata": {},
   "source": [
    "# Check Point\n",
    "This is your first checkpoint. If you ever decide to come back to this notebook or have to restart the notebook, you can start from here. The preprocessed data has been saved to disk."
   ]
  },
  {
   "cell_type": "code",
   "execution_count": 6,
   "metadata": {},
   "outputs": [],
   "source": [
    "\"\"\"\n",
    "DON'T MODIFY ANYTHING IN THIS CELL\n",
    "\"\"\"\n",
    "import helper\n",
    "import numpy as np\n",
    "import problem_unittests as tests\n",
    "\n",
    "int_text, vocab_to_int, int_to_vocab, token_dict = helper.load_preprocess()"
   ]
  },
  {
   "cell_type": "markdown",
   "metadata": {},
   "source": [
    "## Build the Neural Network\n",
    "You'll build the components necessary to build a RNN by implementing the following functions below:\n",
    "- get_inputs\n",
    "- get_init_cell\n",
    "- get_embed\n",
    "- build_rnn\n",
    "- build_nn\n",
    "- get_batches\n",
    "\n",
    "### Check the Version of TensorFlow and Access to GPU"
   ]
  },
  {
   "cell_type": "code",
   "execution_count": 7,
   "metadata": {},
   "outputs": [
    {
     "name": "stdout",
     "output_type": "stream",
     "text": [
      "TensorFlow Version: 1.13.1\n"
     ]
    },
    {
     "name": "stderr",
     "output_type": "stream",
     "text": [
      "/usr/local/lib/python3.7/site-packages/ipykernel_launcher.py:14: UserWarning: No GPU found. Please use a GPU to train your neural network.\n",
      "  \n"
     ]
    }
   ],
   "source": [
    "\"\"\"\n",
    "DON'T MODIFY ANYTHING IN THIS CELL\n",
    "\"\"\"\n",
    "from distutils.version import LooseVersion\n",
    "import warnings\n",
    "import tensorflow as tf\n",
    "\n",
    "# Check TensorFlow Version\n",
    "assert LooseVersion(tf.__version__) >= LooseVersion('1.3'), 'Please use TensorFlow version 1.3 or newer'\n",
    "print('TensorFlow Version: {}'.format(tf.__version__))\n",
    "\n",
    "# Check for a GPU\n",
    "if not tf.test.gpu_device_name():\n",
    "    warnings.warn('No GPU found. Please use a GPU to train your neural network.')\n",
    "else:\n",
    "    print('Default GPU Device: {}'.format(tf.test.gpu_device_name()))"
   ]
  },
  {
   "cell_type": "markdown",
   "metadata": {},
   "source": [
    "### Input\n",
    "Implement the `get_inputs()` function to create TF Placeholders for the Neural Network.  It should create the following placeholders:\n",
    "- Input text placeholder named \"input\" using the [TF Placeholder](https://www.tensorflow.org/api_docs/python/tf/placeholder) `name` parameter.\n",
    "- Targets placeholder\n",
    "- Learning Rate placeholder\n",
    "\n",
    "Return the placeholders in the following tuple `(Input, Targets, LearningRate)`"
   ]
  },
  {
   "cell_type": "code",
   "execution_count": 8,
   "metadata": {},
   "outputs": [
    {
     "name": "stdout",
     "output_type": "stream",
     "text": [
      "Tests Passed\n"
     ]
    }
   ],
   "source": [
    "def get_inputs():\n",
    "    \"\"\"\n",
    "    Create TF Placeholders for input, targets, and learning rate.\n",
    "    :return: Tuple (input, targets, learning rate)\n",
    "    \"\"\"\n",
    "    inputs = tf.placeholder(tf.int32, (None,None), name=\"input\")\n",
    "    targets = tf.placeholder(tf.int32, (None,None), name=\"targets\")\n",
    "    learning_rate = tf.placeholder(tf.float32, name=\"learning_rate\")\n",
    "    \n",
    "    return inputs, targets, learning_rate\n",
    "\n",
    "\n",
    "\"\"\"\n",
    "DON'T MODIFY ANYTHING IN THIS CELL THAT IS BELOW THIS LINE\n",
    "\"\"\"\n",
    "tests.test_get_inputs(get_inputs)"
   ]
  },
  {
   "cell_type": "markdown",
   "metadata": {},
   "source": [
    "### Build RNN Cell and Initialize\n",
    "Stack one or more [`BasicLSTMCells`](https://www.tensorflow.org/api_docs/python/tf/contrib/rnn/BasicLSTMCell) in a [`MultiRNNCell`](https://www.tensorflow.org/api_docs/python/tf/contrib/rnn/MultiRNNCell).\n",
    "- The Rnn size should be set using `rnn_size`\n",
    "- Initalize Cell State using the MultiRNNCell's [`zero_state()`](https://www.tensorflow.org/api_docs/python/tf/contrib/rnn/MultiRNNCell#zero_state) function\n",
    "    - Apply the name \"initial_state\" to the initial state using [`tf.identity()`](https://www.tensorflow.org/api_docs/python/tf/identity)\n",
    "\n",
    "Return the cell and initial state in the following tuple `(Cell, InitialState)`"
   ]
  },
  {
   "cell_type": "code",
   "execution_count": 9,
   "metadata": {},
   "outputs": [
    {
     "name": "stdout",
     "output_type": "stream",
     "text": [
      "WARNING:tensorflow:From <ipython-input-9-231c44e1b138>:9: BasicLSTMCell.__init__ (from tensorflow.python.ops.rnn_cell_impl) is deprecated and will be removed in a future version.\n",
      "Instructions for updating:\n",
      "This class is equivalent as tf.keras.layers.LSTMCell, and will be replaced by that in Tensorflow 2.0.\n",
      "WARNING:tensorflow:From <ipython-input-9-231c44e1b138>:10: MultiRNNCell.__init__ (from tensorflow.python.ops.rnn_cell_impl) is deprecated and will be removed in a future version.\n",
      "Instructions for updating:\n",
      "This class is equivalent as tf.keras.layers.StackedRNNCells, and will be replaced by that in Tensorflow 2.0.\n",
      "Tests Passed\n"
     ]
    }
   ],
   "source": [
    "def get_init_cell(batch_size, rnn_size):\n",
    "    \"\"\"\n",
    "    Create an RNN Cell and initialize it.\n",
    "    :param batch_size: Size of batches\n",
    "    :param rnn_size: Size of RNNs\n",
    "    :return: Tuple (cell, initialize state)\n",
    "    \"\"\"\n",
    "    # TODO: Implement Function\n",
    "    cell = tf.contrib.rnn.BasicLSTMCell(num_units=rnn_size)\n",
    "    stacked_rnn_cell = tf.contrib.rnn.MultiRNNCell([cell])\n",
    "    \n",
    "    initial_state = stacked_rnn_cell.zero_state(batch_size, tf.float32)\n",
    "    initial_state = tf.identity(initial_state, name=\"initial_state\")\n",
    "\n",
    "    return stacked_rnn_cell, initial_state\n",
    "\n",
    "\"\"\"\n",
    "DON'T MODIFY ANYTHING IN THIS CELL THAT IS BELOW THIS LINE\n",
    "\"\"\"\n",
    "tests.test_get_init_cell(get_init_cell)"
   ]
  },
  {
   "cell_type": "markdown",
   "metadata": {},
   "source": [
    "### Word Embedding\n",
    "Apply embedding to `input_data` using TensorFlow.  Return the embedded sequence."
   ]
  },
  {
   "cell_type": "code",
   "execution_count": 10,
   "metadata": {},
   "outputs": [
    {
     "name": "stdout",
     "output_type": "stream",
     "text": [
      "WARNING:tensorflow:From /usr/local/lib/python3.7/site-packages/tensorflow/python/framework/op_def_library.py:263: colocate_with (from tensorflow.python.framework.ops) is deprecated and will be removed in a future version.\n",
      "Instructions for updating:\n",
      "Colocations handled automatically by placer.\n",
      "Tests Passed\n"
     ]
    }
   ],
   "source": [
    "def get_embed(input_data, vocab_size, embed_dim):\n",
    "    \"\"\"\n",
    "    Create embedding for <input_data>.\n",
    "    :param input_data: TF placeholder for text input.\n",
    "    :param vocab_size: Number of words in vocabulary.\n",
    "    :param embed_dim: Number of embedding dimensions\n",
    "    :return: Embedded input.\n",
    "    \"\"\"\n",
    "    # TODO: Implement Function\n",
    "    embedding = tf.Variable(tf.random_uniform((vocab_size, embed_dim), -1, 1))\n",
    "    embed = tf.nn.embedding_lookup(embedding, input_data)\n",
    "    return embed\n",
    "\n",
    "\n",
    "\"\"\"\n",
    "DON'T MODIFY ANYTHING IN THIS CELL THAT IS BELOW THIS LINE\n",
    "\"\"\"\n",
    "tests.test_get_embed(get_embed)"
   ]
  },
  {
   "cell_type": "markdown",
   "metadata": {},
   "source": [
    "### Build RNN\n",
    "You created a RNN Cell in the `get_init_cell()` function.  Time to use the cell to create a RNN.\n",
    "- Build the RNN using the [`tf.nn.dynamic_rnn()`](https://www.tensorflow.org/api_docs/python/tf/nn/dynamic_rnn)\n",
    " - Apply the name \"final_state\" to the final state using [`tf.identity()`](https://www.tensorflow.org/api_docs/python/tf/identity)\n",
    "\n",
    "Return the outputs and final_state state in the following tuple `(Outputs, FinalState)` "
   ]
  },
  {
   "cell_type": "code",
   "execution_count": 11,
   "metadata": {},
   "outputs": [
    {
     "name": "stdout",
     "output_type": "stream",
     "text": [
      "WARNING:tensorflow:From <ipython-input-11-1dcb2169da9f>:10: dynamic_rnn (from tensorflow.python.ops.rnn) is deprecated and will be removed in a future version.\n",
      "Instructions for updating:\n",
      "Please use `keras.layers.RNN(cell)`, which is equivalent to this API\n",
      "Tests Passed\n"
     ]
    }
   ],
   "source": [
    "def build_rnn(cell, inputs):\n",
    "    \"\"\"\n",
    "    Create a RNN using a RNN Cell\n",
    "    :param cell: RNN Cell\n",
    "    :param inputs: Input text data\n",
    "    :return: Tuple (Outputs, Final State)\n",
    "    \"\"\"\n",
    "    # TODO: Implement Function\n",
    "    # defining initial state\n",
    "    outputs, state = tf.nn.dynamic_rnn(cell, inputs,dtype=tf.float32)\n",
    "    final_state = state\n",
    "    final_state = tf.identity(final_state,\"final_state\")\n",
    "    \n",
    "    return outputs,  final_state\n",
    "\n",
    "\"\"\"\n",
    "DON'T MODIFY ANYTHING IN THIS CELL THAT IS BELOW THIS LINE\n",
    "\"\"\"\n",
    "tests.test_build_rnn(build_rnn)"
   ]
  },
  {
   "cell_type": "markdown",
   "metadata": {},
   "source": [
    "### Build the Neural Network\n",
    "Apply the functions you implemented above to:\n",
    "- Apply embedding to `input_data` using your `get_embed(input_data, vocab_size, embed_dim)` function.\n",
    "- Build RNN using `cell` and your `build_rnn(cell, inputs)` function.\n",
    "- Apply a fully connected layer with a linear activation and `vocab_size` as the number of outputs.\n",
    "\n",
    "Return the logits and final state in the following tuple (Logits, FinalState) "
   ]
  },
  {
   "cell_type": "code",
   "execution_count": 12,
   "metadata": {},
   "outputs": [
    {
     "name": "stdout",
     "output_type": "stream",
     "text": [
      "Tests Passed\n"
     ]
    }
   ],
   "source": [
    "def build_nn(cell, rnn_size, input_data, vocab_size, embed_dim):\n",
    "    \"\"\"\n",
    "    Build part of the neural network\n",
    "    :param cell: RNN cell\n",
    "    :param rnn_size: Size of rnns\n",
    "    :param input_data: Input data\n",
    "    :param vocab_size: Vocabulary size\n",
    "    :param embed_dim: Number of embedding dimensions\n",
    "    :return: Tuple (Logits, FinalState)\n",
    "    \"\"\"\n",
    "    # TODO: Implement Function\n",
    "    embed = get_embed(input_data, vocab_size, embed_dim)\n",
    "    output, final_state = build_rnn(cell, embed)\n",
    "    logits = tf.contrib.layers.fully_connected(output, vocab_size, activation_fn=None)\n",
    "    \n",
    "    return logits, final_state\n",
    "\n",
    "\"\"\"\n",
    "DON'T MODIFY ANYTHING IN THIS CELL THAT IS BELOW THIS LINE\n",
    "\"\"\"\n",
    "tests.test_build_nn(build_nn)"
   ]
  },
  {
   "cell_type": "markdown",
   "metadata": {},
   "source": [
    "### Batches\n",
    "Implement `get_batches` to create batches of input and targets using `int_text`.  The batches should be a Numpy array with the shape `(number of batches, 2, batch size, sequence length)`. Each batch contains two elements:\n",
    "- The first element is a single batch of **input** with the shape `[batch size, sequence length]`\n",
    "- The second element is a single batch of **targets** with the shape `[batch size, sequence length]`\n",
    "\n",
    "If you can't fill the last batch with enough data, drop the last batch.\n",
    "\n",
    "For example, `get_batches([1, 2, 3, 4, 5, 6, 7, 8, 9, 10, 11, 12, 13, 14, 15, 16, 17, 18, 19, 20], 3, 2)` would return a Numpy array of the following:\n",
    "```\n",
    "[\n",
    "  # First Batch\n",
    "  [\n",
    "    # Batch of Input\n",
    "    [[ 1  2], [ 7  8], [13 14]]\n",
    "    # Batch of targets\n",
    "    [[ 2  3], [ 8  9], [14 15]]\n",
    "  ]\n",
    "\n",
    "  # Second Batch\n",
    "  [\n",
    "    # Batch of Input\n",
    "    [[ 3  4], [ 9 10], [15 16]]\n",
    "    # Batch of targets\n",
    "    [[ 4  5], [10 11], [16 17]]\n",
    "  ]\n",
    "\n",
    "  # Third Batch\n",
    "  [\n",
    "    # Batch of Input\n",
    "    [[ 5  6], [11 12], [17 18]]\n",
    "    # Batch of targets\n",
    "    [[ 6  7], [12 13], [18  1]]\n",
    "  ]\n",
    "]\n",
    "```\n",
    "\n",
    "Notice that the last target value in the last batch is the first input value of the first batch. In this case, `1`. This is a common technique used when creating sequence batches, although it is rather unintuitive."
   ]
  },
  {
   "cell_type": "code",
   "execution_count": 13,
   "metadata": {},
   "outputs": [
    {
     "name": "stdout",
     "output_type": "stream",
     "text": [
      "Tests Passed\n"
     ]
    }
   ],
   "source": [
    "def get_batches(int_text, batch_size, seq_length):\n",
    "    \"\"\"\n",
    "    Return batches of input and target\n",
    "    :param int_text: Text with the words replaced by their ids\n",
    "    :param batch_size: The size of batch\n",
    "    :param seq_length: The length of sequence\n",
    "    :return: Batches as a Numpy array\n",
    "    \"\"\"\n",
    "    # TODO: Implement Function\n",
    "    n_batch = len(int_text)//(batch_size*seq_length)\n",
    "    x_data = np.array(int_text[:batch_size*seq_length*n_batch])\n",
    "    y_data = np.array(int_text[1:batch_size*seq_length*n_batch+1])\n",
    "    \n",
    "    y_data[-1] = x_data[0] # I think it's really unintuitive\n",
    "    x_batches = np.split(x_data.reshape(batch_size, -1), n_batch, 1)\n",
    "    y_batches = np.split(y_data.reshape(batch_size, -1), n_batch, 1)\n",
    "    \n",
    "    return np.array(list(zip(x_batches, y_batches)))\n",
    "\n",
    "\"\"\"\n",
    "DON'T MODIFY ANYTHING IN THIS CELL THAT IS BELOW THIS LINE\n",
    "\"\"\"\n",
    "tests.test_get_batches(get_batches)"
   ]
  },
  {
   "cell_type": "markdown",
   "metadata": {},
   "source": [
    "## Neural Network Training\n",
    "### Hyperparameters\n",
    "Tune the following parameters:\n",
    "\n",
    "- Set `num_epochs` to the number of epochs.\n",
    "- Set `batch_size` to the batch size.\n",
    "- Set `rnn_size` to the size of the RNNs.\n",
    "- Set `embed_dim` to the size of the embedding.\n",
    "- Set `seq_length` to the length of sequence.\n",
    "- Set `learning_rate` to the learning rate.\n",
    "- Set `show_every_n_batches` to the number of batches the neural network should print progress."
   ]
  },
  {
   "cell_type": "code",
   "execution_count": 17,
   "metadata": {},
   "outputs": [],
   "source": [
    "# Number of Epochs\n",
    "num_epochs = 140\n",
    "# Batch Size\n",
    "batch_size = 64\n",
    "# RNN Size\n",
    "rnn_size = 128\n",
    "# Embedding Dimension Size\n",
    "embed_dim = 256\n",
    "# Sequence Length\n",
    "seq_length = 16\n",
    "# Learning Rate\n",
    "learning_rate = 0.005\n",
    "# Show stats for every n number of batches\n",
    "show_every_n_batches = 32\n",
    "\n",
    "\"\"\"\n",
    "DON'T MODIFY ANYTHING IN THIS CELL THAT IS BELOW THIS LINE\n",
    "\"\"\"\n",
    "save_dir = './save'"
   ]
  },
  {
   "cell_type": "markdown",
   "metadata": {},
   "source": [
    "### Build the Graph\n",
    "Build the graph using the neural network you implemented."
   ]
  },
  {
   "cell_type": "code",
   "execution_count": 18,
   "metadata": {},
   "outputs": [],
   "source": [
    "\"\"\"\n",
    "DON'T MODIFY ANYTHING IN THIS CELL\n",
    "\"\"\"\n",
    "from tensorflow.contrib import seq2seq\n",
    "\n",
    "train_graph = tf.Graph()\n",
    "with train_graph.as_default():\n",
    "    vocab_size = len(int_to_vocab)\n",
    "    input_text, targets, lr = get_inputs()\n",
    "    input_data_shape = tf.shape(input_text)\n",
    "    cell, initial_state = get_init_cell(input_data_shape[0], rnn_size)\n",
    "    logits, final_state = build_nn(cell, rnn_size, input_text, vocab_size, embed_dim)\n",
    "\n",
    "    # Probabilities for generating words\n",
    "    probs = tf.nn.softmax(logits, name='probs')\n",
    "\n",
    "    # Loss function\n",
    "    cost = seq2seq.sequence_loss(\n",
    "        logits,\n",
    "        targets,\n",
    "        tf.ones([input_data_shape[0], input_data_shape[1]]))\n",
    "\n",
    "    # Optimizer\n",
    "    optimizer = tf.train.AdamOptimizer(lr)\n",
    "\n",
    "    # Gradient Clipping\n",
    "    gradients = optimizer.compute_gradients(cost)\n",
    "    capped_gradients = [(tf.clip_by_value(grad, -1., 1.), var) for grad, var in gradients if grad is not None]\n",
    "    train_op = optimizer.apply_gradients(capped_gradients)"
   ]
  },
  {
   "cell_type": "markdown",
   "metadata": {},
   "source": [
    "## Train\n",
    "Train the neural network on the preprocessed data.  If you have a hard time getting a good loss, check the [forums](https://discussions.udacity.com/) to see if anyone is having the same problem."
   ]
  },
  {
   "cell_type": "code",
   "execution_count": 19,
   "metadata": {},
   "outputs": [
    {
     "name": "stdout",
     "output_type": "stream",
     "text": [
      "Epoch   0 Batch    0/67   train_loss = 8.823\n",
      "Epoch   0 Batch   32/67   train_loss = 6.315\n",
      "Epoch   0 Batch   64/67   train_loss = 5.532\n",
      "Epoch   1 Batch   29/67   train_loss = 5.353\n",
      "Epoch   1 Batch   61/67   train_loss = 5.073\n",
      "Epoch   2 Batch   26/67   train_loss = 4.758\n",
      "Epoch   2 Batch   58/67   train_loss = 4.784\n",
      "Epoch   3 Batch   23/67   train_loss = 4.551\n",
      "Epoch   3 Batch   55/67   train_loss = 4.464\n",
      "Epoch   4 Batch   20/67   train_loss = 4.279\n",
      "Epoch   4 Batch   52/67   train_loss = 4.317\n",
      "Epoch   5 Batch   17/67   train_loss = 4.212\n",
      "Epoch   5 Batch   49/67   train_loss = 3.942\n",
      "Epoch   6 Batch   14/67   train_loss = 4.030\n",
      "Epoch   6 Batch   46/67   train_loss = 3.705\n",
      "Epoch   7 Batch   11/67   train_loss = 3.733\n",
      "Epoch   7 Batch   43/67   train_loss = 3.677\n",
      "Epoch   8 Batch    8/67   train_loss = 3.579\n",
      "Epoch   8 Batch   40/67   train_loss = 3.567\n",
      "Epoch   9 Batch    5/67   train_loss = 3.475\n",
      "Epoch   9 Batch   37/67   train_loss = 3.456\n",
      "Epoch  10 Batch    2/67   train_loss = 3.156\n",
      "Epoch  10 Batch   34/67   train_loss = 3.255\n",
      "Epoch  10 Batch   66/67   train_loss = 3.096\n",
      "Epoch  11 Batch   31/67   train_loss = 3.182\n",
      "Epoch  11 Batch   63/67   train_loss = 3.085\n",
      "Epoch  12 Batch   28/67   train_loss = 3.009\n",
      "Epoch  12 Batch   60/67   train_loss = 2.922\n",
      "Epoch  13 Batch   25/67   train_loss = 3.026\n",
      "Epoch  13 Batch   57/67   train_loss = 2.835\n",
      "Epoch  14 Batch   22/67   train_loss = 2.859\n",
      "Epoch  14 Batch   54/67   train_loss = 2.794\n",
      "Epoch  15 Batch   19/67   train_loss = 2.671\n",
      "Epoch  15 Batch   51/67   train_loss = 2.743\n",
      "Epoch  16 Batch   16/67   train_loss = 2.694\n",
      "Epoch  16 Batch   48/67   train_loss = 2.663\n",
      "Epoch  17 Batch   13/67   train_loss = 2.576\n",
      "Epoch  17 Batch   45/67   train_loss = 2.454\n",
      "Epoch  18 Batch   10/67   train_loss = 2.605\n",
      "Epoch  18 Batch   42/67   train_loss = 2.397\n",
      "Epoch  19 Batch    7/67   train_loss = 2.527\n",
      "Epoch  19 Batch   39/67   train_loss = 2.430\n",
      "Epoch  20 Batch    4/67   train_loss = 2.289\n",
      "Epoch  20 Batch   36/67   train_loss = 2.273\n",
      "Epoch  21 Batch    1/67   train_loss = 2.370\n",
      "Epoch  21 Batch   33/67   train_loss = 2.307\n",
      "Epoch  21 Batch   65/67   train_loss = 2.190\n",
      "Epoch  22 Batch   30/67   train_loss = 2.134\n",
      "Epoch  22 Batch   62/67   train_loss = 2.178\n",
      "Epoch  23 Batch   27/67   train_loss = 2.242\n",
      "Epoch  23 Batch   59/67   train_loss = 2.115\n",
      "Epoch  24 Batch   24/67   train_loss = 2.222\n",
      "Epoch  24 Batch   56/67   train_loss = 2.006\n",
      "Epoch  25 Batch   21/67   train_loss = 2.155\n",
      "Epoch  25 Batch   53/67   train_loss = 2.003\n",
      "Epoch  26 Batch   18/67   train_loss = 2.021\n",
      "Epoch  26 Batch   50/67   train_loss = 1.869\n",
      "Epoch  27 Batch   15/67   train_loss = 1.918\n",
      "Epoch  27 Batch   47/67   train_loss = 1.982\n",
      "Epoch  28 Batch   12/67   train_loss = 1.973\n",
      "Epoch  28 Batch   44/67   train_loss = 1.747\n",
      "Epoch  29 Batch    9/67   train_loss = 1.871\n",
      "Epoch  29 Batch   41/67   train_loss = 1.798\n",
      "Epoch  30 Batch    6/67   train_loss = 1.794\n",
      "Epoch  30 Batch   38/67   train_loss = 1.680\n",
      "Epoch  31 Batch    3/67   train_loss = 1.868\n",
      "Epoch  31 Batch   35/67   train_loss = 1.706\n",
      "Epoch  32 Batch    0/67   train_loss = 1.761\n",
      "Epoch  32 Batch   32/67   train_loss = 1.630\n",
      "Epoch  32 Batch   64/67   train_loss = 1.676\n",
      "Epoch  33 Batch   29/67   train_loss = 1.741\n",
      "Epoch  33 Batch   61/67   train_loss = 1.638\n",
      "Epoch  34 Batch   26/67   train_loss = 1.766\n",
      "Epoch  34 Batch   58/67   train_loss = 1.585\n",
      "Epoch  35 Batch   23/67   train_loss = 1.601\n",
      "Epoch  35 Batch   55/67   train_loss = 1.573\n",
      "Epoch  36 Batch   20/67   train_loss = 1.684\n",
      "Epoch  36 Batch   52/67   train_loss = 1.504\n",
      "Epoch  37 Batch   17/67   train_loss = 1.663\n",
      "Epoch  37 Batch   49/67   train_loss = 1.522\n",
      "Epoch  38 Batch   14/67   train_loss = 1.443\n",
      "Epoch  38 Batch   46/67   train_loss = 1.351\n",
      "Epoch  39 Batch   11/67   train_loss = 1.439\n",
      "Epoch  39 Batch   43/67   train_loss = 1.405\n",
      "Epoch  40 Batch    8/67   train_loss = 1.434\n",
      "Epoch  40 Batch   40/67   train_loss = 1.251\n",
      "Epoch  41 Batch    5/67   train_loss = 1.309\n",
      "Epoch  41 Batch   37/67   train_loss = 1.311\n",
      "Epoch  42 Batch    2/67   train_loss = 1.351\n",
      "Epoch  42 Batch   34/67   train_loss = 1.391\n",
      "Epoch  42 Batch   66/67   train_loss = 1.313\n",
      "Epoch  43 Batch   31/67   train_loss = 1.293\n",
      "Epoch  43 Batch   63/67   train_loss = 1.257\n",
      "Epoch  44 Batch   28/67   train_loss = 1.114\n",
      "Epoch  44 Batch   60/67   train_loss = 1.168\n",
      "Epoch  45 Batch   25/67   train_loss = 1.273\n",
      "Epoch  45 Batch   57/67   train_loss = 1.164\n",
      "Epoch  46 Batch   22/67   train_loss = 1.304\n",
      "Epoch  46 Batch   54/67   train_loss = 1.143\n",
      "Epoch  47 Batch   19/67   train_loss = 1.063\n",
      "Epoch  47 Batch   51/67   train_loss = 1.266\n",
      "Epoch  48 Batch   16/67   train_loss = 1.152\n",
      "Epoch  48 Batch   48/67   train_loss = 1.188\n",
      "Epoch  49 Batch   13/67   train_loss = 1.128\n",
      "Epoch  49 Batch   45/67   train_loss = 1.107\n",
      "Epoch  50 Batch   10/67   train_loss = 1.186\n",
      "Epoch  50 Batch   42/67   train_loss = 1.014\n",
      "Epoch  51 Batch    7/67   train_loss = 1.151\n",
      "Epoch  51 Batch   39/67   train_loss = 1.113\n",
      "Epoch  52 Batch    4/67   train_loss = 1.037\n",
      "Epoch  52 Batch   36/67   train_loss = 1.016\n",
      "Epoch  53 Batch    1/67   train_loss = 1.072\n",
      "Epoch  53 Batch   33/67   train_loss = 1.026\n",
      "Epoch  53 Batch   65/67   train_loss = 1.091\n",
      "Epoch  54 Batch   30/67   train_loss = 0.992\n",
      "Epoch  54 Batch   62/67   train_loss = 0.991\n",
      "Epoch  55 Batch   27/67   train_loss = 0.991\n",
      "Epoch  55 Batch   59/67   train_loss = 1.017\n",
      "Epoch  56 Batch   24/67   train_loss = 1.073\n",
      "Epoch  56 Batch   56/67   train_loss = 0.985\n",
      "Epoch  57 Batch   21/67   train_loss = 1.015\n",
      "Epoch  57 Batch   53/67   train_loss = 0.925\n",
      "Epoch  58 Batch   18/67   train_loss = 0.942\n",
      "Epoch  58 Batch   50/67   train_loss = 0.953\n",
      "Epoch  59 Batch   15/67   train_loss = 0.869\n",
      "Epoch  59 Batch   47/67   train_loss = 0.958\n",
      "Epoch  60 Batch   12/67   train_loss = 1.009\n",
      "Epoch  60 Batch   44/67   train_loss = 0.868\n",
      "Epoch  61 Batch    9/67   train_loss = 0.919\n",
      "Epoch  61 Batch   41/67   train_loss = 0.995\n",
      "Epoch  62 Batch    6/67   train_loss = 0.880\n",
      "Epoch  62 Batch   38/67   train_loss = 0.752\n",
      "Epoch  63 Batch    3/67   train_loss = 0.936\n",
      "Epoch  63 Batch   35/67   train_loss = 0.918\n",
      "Epoch  64 Batch    0/67   train_loss = 0.921\n",
      "Epoch  64 Batch   32/67   train_loss = 0.841\n",
      "Epoch  64 Batch   64/67   train_loss = 0.893\n",
      "Epoch  65 Batch   29/67   train_loss = 0.854\n",
      "Epoch  65 Batch   61/67   train_loss = 0.831\n",
      "Epoch  66 Batch   26/67   train_loss = 0.958\n",
      "Epoch  66 Batch   58/67   train_loss = 0.827\n",
      "Epoch  67 Batch   23/67   train_loss = 0.834\n",
      "Epoch  67 Batch   55/67   train_loss = 0.817\n",
      "Epoch  68 Batch   20/67   train_loss = 0.932\n",
      "Epoch  68 Batch   52/67   train_loss = 0.810\n",
      "Epoch  69 Batch   17/67   train_loss = 0.896\n",
      "Epoch  69 Batch   49/67   train_loss = 0.844\n",
      "Epoch  70 Batch   14/67   train_loss = 0.797\n",
      "Epoch  70 Batch   46/67   train_loss = 0.752\n",
      "Epoch  71 Batch   11/67   train_loss = 0.750\n",
      "Epoch  71 Batch   43/67   train_loss = 0.777\n",
      "Epoch  72 Batch    8/67   train_loss = 0.832\n",
      "Epoch  72 Batch   40/67   train_loss = 0.677\n",
      "Epoch  73 Batch    5/67   train_loss = 0.758\n",
      "Epoch  73 Batch   37/67   train_loss = 0.732\n",
      "Epoch  74 Batch    2/67   train_loss = 0.810\n",
      "Epoch  74 Batch   34/67   train_loss = 0.815\n",
      "Epoch  74 Batch   66/67   train_loss = 0.785\n",
      "Epoch  75 Batch   31/67   train_loss = 0.754\n",
      "Epoch  75 Batch   63/67   train_loss = 0.717\n",
      "Epoch  76 Batch   28/67   train_loss = 0.632\n",
      "Epoch  76 Batch   60/67   train_loss = 0.697\n",
      "Epoch  77 Batch   25/67   train_loss = 0.732\n",
      "Epoch  77 Batch   57/67   train_loss = 0.664\n",
      "Epoch  78 Batch   22/67   train_loss = 0.747\n",
      "Epoch  78 Batch   54/67   train_loss = 0.680\n",
      "Epoch  79 Batch   19/67   train_loss = 0.614\n",
      "Epoch  79 Batch   51/67   train_loss = 0.775\n",
      "Epoch  80 Batch   16/67   train_loss = 0.654\n",
      "Epoch  80 Batch   48/67   train_loss = 0.689\n",
      "Epoch  81 Batch   13/67   train_loss = 0.686\n",
      "Epoch  81 Batch   45/67   train_loss = 0.716\n",
      "Epoch  82 Batch   10/67   train_loss = 0.680\n",
      "Epoch  82 Batch   42/67   train_loss = 0.619\n",
      "Epoch  83 Batch    7/67   train_loss = 0.695\n",
      "Epoch  83 Batch   39/67   train_loss = 0.703\n",
      "Epoch  84 Batch    4/67   train_loss = 0.600\n",
      "Epoch  84 Batch   36/67   train_loss = 0.596\n",
      "Epoch  85 Batch    1/67   train_loss = 0.625\n",
      "Epoch  85 Batch   33/67   train_loss = 0.601\n",
      "Epoch  85 Batch   65/67   train_loss = 0.636\n",
      "Epoch  86 Batch   30/67   train_loss = 0.542\n",
      "Epoch  86 Batch   62/67   train_loss = 0.617\n"
     ]
    },
    {
     "name": "stdout",
     "output_type": "stream",
     "text": [
      "Epoch  87 Batch   27/67   train_loss = 0.535\n",
      "Epoch  87 Batch   59/67   train_loss = 0.658\n",
      "Epoch  88 Batch   24/67   train_loss = 0.671\n",
      "Epoch  88 Batch   56/67   train_loss = 0.575\n",
      "Epoch  89 Batch   21/67   train_loss = 0.615\n",
      "Epoch  89 Batch   53/67   train_loss = 0.575\n",
      "Epoch  90 Batch   18/67   train_loss = 0.621\n",
      "Epoch  90 Batch   50/67   train_loss = 0.621\n",
      "Epoch  91 Batch   15/67   train_loss = 0.542\n",
      "Epoch  91 Batch   47/67   train_loss = 0.616\n",
      "Epoch  92 Batch   12/67   train_loss = 0.653\n",
      "Epoch  92 Batch   44/67   train_loss = 0.519\n",
      "Epoch  93 Batch    9/67   train_loss = 0.579\n",
      "Epoch  93 Batch   41/67   train_loss = 0.656\n",
      "Epoch  94 Batch    6/67   train_loss = 0.589\n",
      "Epoch  94 Batch   38/67   train_loss = 0.496\n",
      "Epoch  95 Batch    3/67   train_loss = 0.626\n",
      "Epoch  95 Batch   35/67   train_loss = 0.592\n",
      "Epoch  96 Batch    0/67   train_loss = 0.554\n",
      "Epoch  96 Batch   32/67   train_loss = 0.556\n",
      "Epoch  96 Batch   64/67   train_loss = 0.584\n",
      "Epoch  97 Batch   29/67   train_loss = 0.575\n",
      "Epoch  97 Batch   61/67   train_loss = 0.594\n",
      "Epoch  98 Batch   26/67   train_loss = 0.644\n",
      "Epoch  98 Batch   58/67   train_loss = 0.605\n",
      "Epoch  99 Batch   23/67   train_loss = 0.577\n",
      "Epoch  99 Batch   55/67   train_loss = 0.546\n",
      "Epoch 100 Batch   20/67   train_loss = 0.645\n",
      "Epoch 100 Batch   52/67   train_loss = 0.601\n",
      "Epoch 101 Batch   17/67   train_loss = 0.592\n",
      "Epoch 101 Batch   49/67   train_loss = 0.632\n",
      "Epoch 102 Batch   14/67   train_loss = 0.593\n",
      "Epoch 102 Batch   46/67   train_loss = 0.596\n",
      "Epoch 103 Batch   11/67   train_loss = 0.560\n",
      "Epoch 103 Batch   43/67   train_loss = 0.596\n",
      "Epoch 104 Batch    8/67   train_loss = 0.599\n",
      "Epoch 104 Batch   40/67   train_loss = 0.527\n",
      "Epoch 105 Batch    5/67   train_loss = 0.553\n",
      "Epoch 105 Batch   37/67   train_loss = 0.511\n",
      "Epoch 106 Batch    2/67   train_loss = 0.576\n",
      "Epoch 106 Batch   34/67   train_loss = 0.604\n",
      "Epoch 106 Batch   66/67   train_loss = 0.589\n",
      "Epoch 107 Batch   31/67   train_loss = 0.577\n",
      "Epoch 107 Batch   63/67   train_loss = 0.551\n",
      "Epoch 108 Batch   28/67   train_loss = 0.478\n",
      "Epoch 108 Batch   60/67   train_loss = 0.534\n",
      "Epoch 109 Batch   25/67   train_loss = 0.560\n",
      "Epoch 109 Batch   57/67   train_loss = 0.526\n",
      "Epoch 110 Batch   22/67   train_loss = 0.601\n",
      "Epoch 110 Batch   54/67   train_loss = 0.554\n",
      "Epoch 111 Batch   19/67   train_loss = 0.512\n",
      "Epoch 111 Batch   51/67   train_loss = 0.635\n",
      "Epoch 112 Batch   16/67   train_loss = 0.552\n",
      "Epoch 112 Batch   48/67   train_loss = 0.573\n",
      "Epoch 113 Batch   13/67   train_loss = 0.571\n",
      "Epoch 113 Batch   45/67   train_loss = 0.555\n",
      "Epoch 114 Batch   10/67   train_loss = 0.577\n",
      "Epoch 114 Batch   42/67   train_loss = 0.481\n",
      "Epoch 115 Batch    7/67   train_loss = 0.556\n",
      "Epoch 115 Batch   39/67   train_loss = 0.557\n",
      "Epoch 116 Batch    4/67   train_loss = 0.498\n",
      "Epoch 116 Batch   36/67   train_loss = 0.506\n",
      "Epoch 117 Batch    1/67   train_loss = 0.490\n",
      "Epoch 117 Batch   33/67   train_loss = 0.446\n",
      "Epoch 117 Batch   65/67   train_loss = 0.508\n",
      "Epoch 118 Batch   30/67   train_loss = 0.429\n",
      "Epoch 118 Batch   62/67   train_loss = 0.497\n",
      "Epoch 119 Batch   27/67   train_loss = 0.428\n",
      "Epoch 119 Batch   59/67   train_loss = 0.574\n",
      "Epoch 120 Batch   24/67   train_loss = 0.519\n",
      "Epoch 120 Batch   56/67   train_loss = 0.503\n",
      "Epoch 121 Batch   21/67   train_loss = 0.555\n",
      "Epoch 121 Batch   53/67   train_loss = 0.468\n",
      "Epoch 122 Batch   18/67   train_loss = 0.521\n",
      "Epoch 122 Batch   50/67   train_loss = 0.501\n",
      "Epoch 123 Batch   15/67   train_loss = 0.457\n",
      "Epoch 123 Batch   47/67   train_loss = 0.541\n",
      "Epoch 124 Batch   12/67   train_loss = 0.557\n",
      "Epoch 124 Batch   44/67   train_loss = 0.453\n",
      "Epoch 125 Batch    9/67   train_loss = 0.512\n",
      "Epoch 125 Batch   41/67   train_loss = 0.527\n",
      "Epoch 126 Batch    6/67   train_loss = 0.462\n",
      "Epoch 126 Batch   38/67   train_loss = 0.395\n",
      "Epoch 127 Batch    3/67   train_loss = 0.527\n",
      "Epoch 127 Batch   35/67   train_loss = 0.488\n",
      "Epoch 128 Batch    0/67   train_loss = 0.501\n",
      "Epoch 128 Batch   32/67   train_loss = 0.497\n",
      "Epoch 128 Batch   64/67   train_loss = 0.469\n",
      "Epoch 129 Batch   29/67   train_loss = 0.453\n",
      "Epoch 129 Batch   61/67   train_loss = 0.485\n",
      "Epoch 130 Batch   26/67   train_loss = 0.579\n",
      "Epoch 130 Batch   58/67   train_loss = 0.539\n",
      "Epoch 131 Batch   23/67   train_loss = 0.529\n",
      "Epoch 131 Batch   55/67   train_loss = 0.477\n",
      "Epoch 132 Batch   20/67   train_loss = 0.519\n",
      "Epoch 132 Batch   52/67   train_loss = 0.533\n",
      "Epoch 133 Batch   17/67   train_loss = 0.556\n",
      "Epoch 133 Batch   49/67   train_loss = 0.523\n",
      "Epoch 134 Batch   14/67   train_loss = 0.477\n",
      "Epoch 134 Batch   46/67   train_loss = 0.426\n",
      "Epoch 135 Batch   11/67   train_loss = 0.439\n",
      "Epoch 135 Batch   43/67   train_loss = 0.496\n",
      "Epoch 136 Batch    8/67   train_loss = 0.472\n",
      "Epoch 136 Batch   40/67   train_loss = 0.383\n",
      "Epoch 137 Batch    5/67   train_loss = 0.421\n",
      "Epoch 137 Batch   37/67   train_loss = 0.420\n",
      "Epoch 138 Batch    2/67   train_loss = 0.464\n",
      "Epoch 138 Batch   34/67   train_loss = 0.504\n",
      "Epoch 138 Batch   66/67   train_loss = 0.514\n",
      "Epoch 139 Batch   31/67   train_loss = 0.472\n",
      "Epoch 139 Batch   63/67   train_loss = 0.501\n",
      "Model Trained and Saved\n"
     ]
    }
   ],
   "source": [
    "\"\"\"\n",
    "DON'T MODIFY ANYTHING IN THIS CELL\n",
    "\"\"\"\n",
    "batches = get_batches(int_text, batch_size, seq_length)\n",
    "\n",
    "with tf.Session(graph=train_graph) as sess:\n",
    "    sess.run(tf.global_variables_initializer())\n",
    "\n",
    "    for epoch_i in range(num_epochs):\n",
    "        state = sess.run(initial_state, {input_text: batches[0][0]})\n",
    "\n",
    "        for batch_i, (x, y) in enumerate(batches):\n",
    "            feed = {\n",
    "                input_text: x,\n",
    "                targets: y,\n",
    "                initial_state: state,\n",
    "                lr: learning_rate}\n",
    "            train_loss, state, _ = sess.run([cost, final_state, train_op], feed)\n",
    "\n",
    "            # Show every <show_every_n_batches> batches\n",
    "            if (epoch_i * len(batches) + batch_i) % show_every_n_batches == 0:\n",
    "                print('Epoch {:>3} Batch {:>4}/{}   train_loss = {:.3f}'.format(\n",
    "                    epoch_i,\n",
    "                    batch_i,\n",
    "                    len(batches),\n",
    "                    train_loss))\n",
    "\n",
    "    # Save Model\n",
    "    saver = tf.train.Saver()\n",
    "    saver.save(sess, save_dir)\n",
    "    print('Model Trained and Saved')"
   ]
  },
  {
   "cell_type": "markdown",
   "metadata": {},
   "source": [
    "## Save Parameters\n",
    "Save `seq_length` and `save_dir` for generating a new TV script."
   ]
  },
  {
   "cell_type": "code",
   "execution_count": 20,
   "metadata": {},
   "outputs": [],
   "source": [
    "\"\"\"\n",
    "DON'T MODIFY ANYTHING IN THIS CELL\n",
    "\"\"\"\n",
    "# Save parameters for checkpoint\n",
    "helper.save_params((seq_length, save_dir))"
   ]
  },
  {
   "cell_type": "markdown",
   "metadata": {},
   "source": [
    "# Checkpoint"
   ]
  },
  {
   "cell_type": "code",
   "execution_count": 21,
   "metadata": {},
   "outputs": [],
   "source": [
    "\"\"\"\n",
    "DON'T MODIFY ANYTHING IN THIS CELL\n",
    "\"\"\"\n",
    "import tensorflow as tf\n",
    "import numpy as np\n",
    "import helper\n",
    "import problem_unittests as tests\n",
    "\n",
    "_, vocab_to_int, int_to_vocab, token_dict = helper.load_preprocess()\n",
    "seq_length, load_dir = helper.load_params()"
   ]
  },
  {
   "cell_type": "markdown",
   "metadata": {},
   "source": [
    "## Implement Generate Functions\n",
    "### Get Tensors\n",
    "Get tensors from `loaded_graph` using the function [`get_tensor_by_name()`](https://www.tensorflow.org/api_docs/python/tf/Graph#get_tensor_by_name).  Get the tensors using the following names:\n",
    "- \"input:0\"\n",
    "- \"initial_state:0\"\n",
    "- \"final_state:0\"\n",
    "- \"probs:0\"\n",
    "\n",
    "Return the tensors in the following tuple `(InputTensor, InitialStateTensor, FinalStateTensor, ProbsTensor)` "
   ]
  },
  {
   "cell_type": "code",
   "execution_count": 22,
   "metadata": {},
   "outputs": [
    {
     "name": "stdout",
     "output_type": "stream",
     "text": [
      "Tests Passed\n"
     ]
    }
   ],
   "source": [
    "def get_tensors(loaded_graph):\n",
    "    \"\"\"\n",
    "    Get input, initial state, final state, and probabilities tensor from <loaded_graph>\n",
    "    :param loaded_graph: TensorFlow graph loaded from file\n",
    "    :return: Tuple (InputTensor, InitialStateTensor, FinalStateTensor, ProbsTensor)\n",
    "    \"\"\"\n",
    "    # TODO: Implement Function\n",
    "    return    loaded_graph.get_tensor_by_name(name=\"input:0\"), \\\n",
    "              loaded_graph.get_tensor_by_name(name=\"initial_state:0\"),\\\n",
    "              loaded_graph.get_tensor_by_name(name=\"final_state:0\"), \\\n",
    "              loaded_graph.get_tensor_by_name(name=\"probs:0\")\n",
    "\n",
    "\"\"\"\n",
    "DON'T MODIFY ANYTHING IN THIS CELL THAT IS BELOW THIS LINE\n",
    "\"\"\"\n",
    "tests.test_get_tensors(get_tensors)"
   ]
  },
  {
   "cell_type": "markdown",
   "metadata": {},
   "source": [
    "### Choose Word\n",
    "Implement the `pick_word()` function to select the next word using `probabilities`."
   ]
  },
  {
   "cell_type": "code",
   "execution_count": 23,
   "metadata": {},
   "outputs": [
    {
     "name": "stdout",
     "output_type": "stream",
     "text": [
      "Tests Passed\n"
     ]
    }
   ],
   "source": [
    "def pick_word(probabilities, int_to_vocab):\n",
    "    \"\"\"\n",
    "    Pick the next word in the generated text\n",
    "    :param probabilities: Probabilites of the next word\n",
    "    :param int_to_vocab: Dictionary of word ids as the keys and words as the values\n",
    "    :return: String of the predicted word\n",
    "    \"\"\"\n",
    "    # TODO: Implement Function\n",
    "    return int_to_vocab[np.argmax(probabilities)]\n",
    "\n",
    "\"\"\"\n",
    "DON'T MODIFY ANYTHING IN THIS CELL THAT IS BELOW THIS LINE\n",
    "\"\"\"\n",
    "tests.test_pick_word(pick_word)"
   ]
  },
  {
   "cell_type": "markdown",
   "metadata": {},
   "source": [
    "## Generate TV Script\n",
    "This will generate the TV script for you.  Set `gen_length` to the length of TV script you want to generate."
   ]
  },
  {
   "cell_type": "code",
   "execution_count": 24,
   "metadata": {},
   "outputs": [
    {
     "name": "stdout",
     "output_type": "stream",
     "text": [
      "WARNING:tensorflow:From /usr/local/lib/python3.7/site-packages/tensorflow/python/training/saver.py:1266: checkpoint_exists (from tensorflow.python.training.checkpoint_management) is deprecated and will be removed in a future version.\n",
      "Instructions for updating:\n",
      "Use standard file APIs to check for files with this prefix.\n",
      "INFO:tensorflow:Restoring parameters from ./save\n",
      "moe_szyslak:(explaining)\" go near moe.\" i'd say that's a pretty strong endorsement--(\") all right-- and business has never been better.\n",
      "moe_szyslak:(looking at watch) ah, that's the barbed wire. heh...\n",
      "moe_szyslak: hey, hey, hey! read the bar on the card,(worried) oh, you did not bring me a beer?\n",
      "moe_szyslak: yeah, how ya?(choked-up noise)\n",
      "marge_simpson: that poor man.(beat) five you, lenny.\n",
      "moe_szyslak: yeah!-- i guess carl.\n",
      "marge_simpson: i wrote a poem for barney on and their sign and my seminar at the house of this. / a play! /\n",
      "moe_szyslak:(happy) yes, i got knocked down! the house. now, um, you still are not even if you don't tell.\n",
      "lenny_leonard: and you're not your normal effervescent self.\n",
      "moe_szyslak: oh yeah? hey, what's mr. mcstagger really like?\n",
      "harv: actually i-- okay? that's the perfect gift\n"
     ]
    }
   ],
   "source": [
    "gen_length = 200\n",
    "# homer_simpson, moe_szyslak, or Barney_Gumble\n",
    "prime_word = 'moe_szyslak'\n",
    "\n",
    "\"\"\"\n",
    "DON'T MODIFY ANYTHING IN THIS CELL THAT IS BELOW THIS LINE\n",
    "\"\"\"\n",
    "loaded_graph = tf.Graph()\n",
    "with tf.Session(graph=loaded_graph) as sess:\n",
    "    # Load saved model\n",
    "    loader = tf.train.import_meta_graph(load_dir + '.meta')\n",
    "    loader.restore(sess, load_dir)\n",
    "\n",
    "    # Get Tensors from loaded model\n",
    "    input_text, initial_state, final_state, probs = get_tensors(loaded_graph)\n",
    "\n",
    "    # Sentences generation setup\n",
    "    gen_sentences = [prime_word + ':']\n",
    "    prev_state = sess.run(initial_state, {input_text: np.array([[1]])})\n",
    "\n",
    "    # Generate sentences\n",
    "    for n in range(gen_length):\n",
    "        # Dynamic Input\n",
    "        dyn_input = [[vocab_to_int[word] for word in gen_sentences[-seq_length:]]]\n",
    "        dyn_seq_length = len(dyn_input[0])\n",
    "\n",
    "        # Get Prediction\n",
    "        probabilities, prev_state = sess.run(\n",
    "            [probs, final_state],\n",
    "            {input_text: dyn_input, initial_state: prev_state})\n",
    "        \n",
    "        pred_word = pick_word(probabilities[0][dyn_seq_length-1], int_to_vocab)\n",
    "\n",
    "        gen_sentences.append(pred_word)\n",
    "    \n",
    "    # Remove tokens\n",
    "    tv_script = ' '.join(gen_sentences)\n",
    "    for key, token in token_dict.items():\n",
    "        ending = ' ' if key in ['\\n', '(', '\"'] else ''\n",
    "        tv_script = tv_script.replace(' ' + token.lower(), key)\n",
    "    tv_script = tv_script.replace('\\n ', '\\n')\n",
    "    tv_script = tv_script.replace('( ', '(')\n",
    "        \n",
    "    print(tv_script)"
   ]
  },
  {
   "cell_type": "markdown",
   "metadata": {},
   "source": [
    "# The TV Script is Nonsensical\n",
    "It's ok if the TV script doesn't make any sense.  We trained on less than a megabyte of text.  In order to get good results, you'll have to use a smaller vocabulary or get more data.  Luckily there's more data!  As we mentioned in the beggining of this project, this is a subset of [another dataset](https://www.kaggle.com/wcukierski/the-simpsons-by-the-data).  We didn't have you train on all the data, because that would take too long.  However, you are free to train your neural network on all the data.  After you complete the project, of course.\n",
    "# Submitting This Project\n",
    "When submitting this project, make sure to run all the cells before saving the notebook. Save the notebook file as \"dlnd_tv_script_generation.ipynb\" and save it as a HTML file under \"File\" -> \"Download as\". Include the \"helper.py\" and \"problem_unittests.py\" files in your submission."
   ]
  }
 ],
 "metadata": {
  "kernelspec": {
   "display_name": "Python 3",
   "language": "python",
   "name": "python3"
  },
  "language_info": {
   "codemirror_mode": {
    "name": "ipython",
    "version": 3
   },
   "file_extension": ".py",
   "mimetype": "text/x-python",
   "name": "python",
   "nbconvert_exporter": "python",
   "pygments_lexer": "ipython3",
   "version": "3.7.3"
  },
  "widgets": {
   "state": {},
   "version": "1.1.2"
  }
 },
 "nbformat": 4,
 "nbformat_minor": 1
}
